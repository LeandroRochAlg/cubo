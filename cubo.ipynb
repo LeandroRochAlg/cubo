{
 "cells": [
  {
   "cell_type": "markdown",
   "metadata": {},
   "source": [
    "\n",
    "# Projeto Cubo com Pygame e OpenGL\n",
    "Este projeto demonstra a criação de um cubo 3D texturizado usando Pygame e OpenGL. O cubo pode ser rotacionado e escalado usando o mouse.\n",
    "\n",
    "## Pré-requisitos\n",
    "Antes de começar, certifique-se de ter as seguintes bibliotecas instaladas:\n",
    "\n",
    "- Pygame\n",
    "- PyOpenGL\n",
    "Você pode instalá-las usando pip:\n",
    "\n",
    "```\n",
    "pip install pygame PyOpenGL PyOpenGL_accelerate\n",
    "```"
   ]
  },
  {
   "cell_type": "markdown",
   "metadata": {},
   "source": [
    "Começamos importando as bibliotecas `pygame` e `OpenGL`.\n",
    "\n",
    "Também definimos as configurações do cubo: vértices, arestas, faces e textura."
   ]
  },
  {
   "cell_type": "code",
   "execution_count": 1,
   "metadata": {},
   "outputs": [
    {
     "name": "stderr",
     "output_type": "stream",
     "text": [
      "<>:53: SyntaxWarning: invalid escape sequence '\\I'\n",
      "<>:53: SyntaxWarning: invalid escape sequence '\\I'\n",
      "C:\\Users\\nnmsg\\AppData\\Local\\Temp\\ipykernel_16932\\2059214204.py:53: SyntaxWarning: invalid escape sequence '\\I'\n",
      "  imagem = 'img\\Image.jpeg'\n"
     ]
    },
    {
     "name": "stdout",
     "output_type": "stream",
     "text": [
      "pygame 2.5.2 (SDL 2.28.3, Python 3.12.2)\n",
      "Hello from the pygame community. https://www.pygame.org/contribute.html\n"
     ]
    }
   ],
   "source": [
    "import pygame\n",
    "from pygame.locals import *\n",
    "from OpenGL.GL import *\n",
    "from OpenGL.GLU import *\n",
    "\n",
    "# Define os vértices do cubo\n",
    "vertices = (\n",
    "    (1, -1, -1),\n",
    "    (1, 1, -1),\n",
    "    (-1, 1, -1),\n",
    "    (-1, -1, -1),\n",
    "    (1, -1, 1),\n",
    "    (1, 1, 1),\n",
    "    (-1, -1, 1),\n",
    "    (-1, 1, 1)\n",
    ")\n",
    "\n",
    "# Define as arestas do cubo\n",
    "edges = (\n",
    "    (0, 1),\n",
    "    (0, 3),\n",
    "    (0, 4),\n",
    "    (2, 1),\n",
    "    (2, 3),\n",
    "    (2, 7),\n",
    "    (6, 3),\n",
    "    (6, 4),\n",
    "    (6, 7),\n",
    "    (5, 1),\n",
    "    (5, 4),\n",
    "    (5, 7)\n",
    ")\n",
    "\n",
    "# Define as faces do cubo\n",
    "surfaces = (\n",
    "    (0, 1, 2, 3),\n",
    "    (3, 2, 7, 6),\n",
    "    (6, 7, 5, 4),\n",
    "    (4, 5, 1, 0),\n",
    "    (1, 5, 7, 2),\n",
    "    (4, 0, 3, 6)\n",
    ")\n",
    "\n",
    "# Coordenadas da textura\n",
    "texture_coords = (\n",
    "    (0, 0),\n",
    "    (1, 0),\n",
    "    (1, 1),\n",
    "    (0, 1)\n",
    ")\n",
    "\n",
    "# Define o caminho da imagem\n",
    "imagem = 'img\\Image.jpeg'"
   ]
  },
  {
   "cell_type": "markdown",
   "metadata": {},
   "source": [
    "Inicialização do display da `pygame`:"
   ]
  },
  {
   "cell_type": "code",
   "execution_count": 2,
   "metadata": {},
   "outputs": [],
   "source": [
    "pygame.init()\n",
    "display = (600, 600)\n",
    "pygame.display.set_mode(display, DOUBLEBUF | OPENGL)\n",
    "gluPerspective(45, (display[0] / display[1]), 0.1, 50.0)\n",
    "glTranslatef(0.0, 0.0, -5)"
   ]
  },
  {
   "cell_type": "markdown",
   "metadata": {},
   "source": [
    "- `DOUBLEBUF` para evitar flickering\n",
    "- `OPENGL` para usar OpenGL"
   ]
  },
  {
   "cell_type": "markdown",
   "metadata": {},
   "source": [
    "Definindo a superfície da textura utilizando o seu diretório e tamanho, além de criá-la:"
   ]
  },
  {
   "cell_type": "code",
   "execution_count": 3,
   "metadata": {},
   "outputs": [],
   "source": [
    "# Carrega a textura\n",
    "superficieTextura = pygame.image.load(imagem)\n",
    "infoTextura = pygame.image.tostring(superficieTextura, 'RGB', 1)\n",
    "largura = superficieTextura.get_width()\n",
    "altura = superficieTextura.get_height()\n",
    "\n",
    "# Cria a textura\n",
    "glEnable(GL_TEXTURE_2D)\n",
    "idTextura = glGenTextures(1)\n",
    "glBindTexture(GL_TEXTURE_2D, idTextura)\n",
    "glTexImage2D(GL_TEXTURE_2D, 0, GL_RGB, largura, altura, 0, GL_RGB, GL_UNSIGNED_BYTE, infoTextura)\n",
    "glTexParameteri(GL_TEXTURE_2D, GL_TEXTURE_MIN_FILTER, GL_LINEAR)\n",
    "glTexParameteri(GL_TEXTURE_2D, GL_TEXTURE_MAG_FILTER, GL_LINEAR)\n",
    "\n",
    "# Habilita o uso de texturas e o teste de profundidade\n",
    "glEnable(GL_TEXTURE_2D)\n",
    "glEnable(GL_DEPTH_TEST)"
   ]
  },
  {
   "cell_type": "markdown",
   "metadata": {},
   "source": [
    "Função que desenha o cubo com a textura utilizando a `OpenGL`:"
   ]
  },
  {
   "cell_type": "code",
   "execution_count": 4,
   "metadata": {},
   "outputs": [],
   "source": [
    "def Cubo(idTextura):\n",
    "    glBindTexture(GL_TEXTURE_2D, idTextura)\n",
    "    glBegin(GL_QUADS)\n",
    "    for surface in surfaces:\n",
    "        for i, vertex in enumerate(surface):\n",
    "            glTexCoord2fv(texture_coords[i])\n",
    "            glVertex3fv(vertices[vertex])\n",
    "    glEnd()"
   ]
  },
  {
   "cell_type": "markdown",
   "metadata": {},
   "source": [
    "Definição de movimentações na `pygame` utilizando o mouse:"
   ]
  },
  {
   "cell_type": "code",
   "execution_count": 5,
   "metadata": {},
   "outputs": [
    {
     "ename": "GLError",
     "evalue": "GLError(\n\terr = 1282,\n\tdescription = b'opera\\xe7\\xe3o inv\\xe1lida',\n\tbaseOperation = glClear,\n\tcArguments = (16640,)\n)",
     "output_type": "error",
     "traceback": [
      "\u001b[1;31m---------------------------------------------------------------------------\u001b[0m",
      "\u001b[1;31mGLError\u001b[0m                                   Traceback (most recent call last)",
      "Cell \u001b[1;32mIn[5], line 51\u001b[0m\n\u001b[0;32m     48\u001b[0m             ultimaPos \u001b[38;5;241m=\u001b[39m (x, y)\n\u001b[0;32m     50\u001b[0m \u001b[38;5;66;03m# Limpa o buffer de cor e o buffer de profundidade\u001b[39;00m\n\u001b[1;32m---> 51\u001b[0m \u001b[43mglClear\u001b[49m\u001b[43m(\u001b[49m\u001b[43mGL_COLOR_BUFFER_BIT\u001b[49m\u001b[43m \u001b[49m\u001b[38;5;241;43m|\u001b[39;49m\u001b[43m \u001b[49m\u001b[43mGL_DEPTH_BUFFER_BIT\u001b[49m\u001b[43m)\u001b[49m\n\u001b[0;32m     53\u001b[0m \u001b[38;5;66;03m# Desenha o cubo na tela\u001b[39;00m\n\u001b[0;32m     54\u001b[0m glPushMatrix()  \u001b[38;5;66;03m# Salva a matriz atual\u001b[39;00m\n",
      "File \u001b[1;32m~\\AppData\\Roaming\\Python\\Python312\\site-packages\\OpenGL\\error.py:230\u001b[0m, in \u001b[0;36m_ErrorChecker.glCheckError\u001b[1;34m(self, result, baseOperation, cArguments, *args)\u001b[0m\n\u001b[0;32m    228\u001b[0m err \u001b[38;5;241m=\u001b[39m \u001b[38;5;28mself\u001b[39m\u001b[38;5;241m.\u001b[39m_currentChecker()\n\u001b[0;32m    229\u001b[0m \u001b[38;5;28;01mif\u001b[39;00m err \u001b[38;5;241m!=\u001b[39m \u001b[38;5;28mself\u001b[39m\u001b[38;5;241m.\u001b[39m_noErrorResult:\n\u001b[1;32m--> 230\u001b[0m     \u001b[38;5;28;01mraise\u001b[39;00m \u001b[38;5;28mself\u001b[39m\u001b[38;5;241m.\u001b[39m_errorClass(\n\u001b[0;32m    231\u001b[0m         err,\n\u001b[0;32m    232\u001b[0m         result,\n\u001b[0;32m    233\u001b[0m         cArguments \u001b[38;5;241m=\u001b[39m cArguments,\n\u001b[0;32m    234\u001b[0m         baseOperation \u001b[38;5;241m=\u001b[39m baseOperation,\n\u001b[0;32m    235\u001b[0m     )\n\u001b[0;32m    236\u001b[0m \u001b[38;5;28;01mreturn\u001b[39;00m result\n",
      "\u001b[1;31mGLError\u001b[0m: GLError(\n\terr = 1282,\n\tdescription = b'opera\\xe7\\xe3o inv\\xe1lida',\n\tbaseOperation = glClear,\n\tcArguments = (16640,)\n)"
     ]
    },
    {
     "ename": "",
     "evalue": "",
     "output_type": "error",
     "traceback": [
      "\u001b[1;31mThe Kernel crashed while executing code in the current cell or a previous cell. \n",
      "\u001b[1;31mPlease review the code in the cell(s) to identify a possible cause of the failure. \n",
      "\u001b[1;31mClick <a href='https://aka.ms/vscodeJupyterKernelCrash'>here</a> for more info. \n",
      "\u001b[1;31mView Jupyter <a href='command:jupyter.viewOutput'>log</a> for further details."
     ]
    }
   ],
   "source": [
    "# Variáveis para a rotação\n",
    "fatorEscala = [1.0, 1.0, 1.0]\n",
    "anguloRotacaoX = 0\n",
    "anguloRotacaoY = 0\n",
    "clickMouse1 = False\n",
    "clickMouse2 = False\n",
    "ultimaPos = None\n",
    "\n",
    "# Loop principal\n",
    "while True:\n",
    "    for event in pygame.event.get():\n",
    "        if event.type == pygame.QUIT:\n",
    "            pygame.quit()\n",
    "            quit()\n",
    "        elif event.type == pygame.MOUSEBUTTONDOWN:\n",
    "            if event.button == 4:  # Scroll +\n",
    "                fatorEscala[0] *= 1.1\n",
    "                fatorEscala[1] *= 1.1\n",
    "                fatorEscala[2] *= 1.1\n",
    "            elif event.button == 5:  # Scroll -\n",
    "                fatorEscala[0] *= 0.9\n",
    "                fatorEscala[1] *= 0.9\n",
    "                fatorEscala[2] *= 0.9\n",
    "            elif event.button == 1:  # Botao esquerdo do mouse pressionado\n",
    "                clickMouse1 = True\n",
    "                ultimaPos = pygame.mouse.get_pos()\n",
    "            elif event.button == 3:  # Botao direito do mouse pressionado\n",
    "                clickMouse2 = True\n",
    "                ultimaPos = pygame.mouse.get_pos()\n",
    "        elif event.type == pygame.MOUSEBUTTONUP:\n",
    "            if event.button == 1:  # Botao esquerdo do mouse solto\n",
    "                clickMouse1 = False\n",
    "            elif event.button == 3:  # Botao direito do mouse solto\n",
    "                clickMouse2 = False\n",
    "        elif event.type == pygame.MOUSEMOTION:\n",
    "            if clickMouse1:\n",
    "                x, y = pygame.mouse.get_pos()\n",
    "                dx = x - ultimaPos[0]\n",
    "                dy = y - ultimaPos[1]\n",
    "                anguloRotacaoX += dy * 0.2\n",
    "                anguloRotacaoY += dx * 0.2\n",
    "                ultimaPos = (x, y)\n",
    "            elif clickMouse2:\n",
    "                x, y = pygame.mouse.get_pos()\n",
    "                dx = x - ultimaPos[0]\n",
    "                dy = y - ultimaPos[1]\n",
    "                glTranslatef(dx * 0.01, -dy * 0.01, 0)\n",
    "                ultimaPos = (x, y)\n",
    "\n",
    "    # Limpa o buffer de cor e o buffer de profundidade\n",
    "    glClear(GL_COLOR_BUFFER_BIT | GL_DEPTH_BUFFER_BIT)\n",
    "    \n",
    "    # Desenha o cubo na tela\n",
    "    glPushMatrix()  # Salva a matriz atual\n",
    "    glScalef(fatorEscala[0], fatorEscala[1], fatorEscala[2])\n",
    "    glRotatef(anguloRotacaoX, 1, 0, 0)\n",
    "    glRotatef(anguloRotacaoY, 0, 1, 0)\n",
    "\n",
    "    Cubo(idTextura) # Desenha o cubo\n",
    "\n",
    "    glPopMatrix()  # Restaura a matriz salva\n",
    "    \n",
    "    pygame.display.flip()\n",
    "    pygame.time.wait(10)"
   ]
  }
 ],
 "metadata": {
  "kernelspec": {
   "display_name": "Python 3",
   "language": "python",
   "name": "python3"
  },
  "language_info": {
   "codemirror_mode": {
    "name": "ipython",
    "version": 3
   },
   "file_extension": ".py",
   "mimetype": "text/x-python",
   "name": "python",
   "nbconvert_exporter": "python",
   "pygments_lexer": "ipython3",
   "version": "3.12.2"
  }
 },
 "nbformat": 4,
 "nbformat_minor": 2
}
