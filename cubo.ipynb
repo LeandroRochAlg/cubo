{
 "cells": [
  {
   "cell_type": "markdown",
   "metadata": {},
   "source": [
    "# Cubo"
   ]
  },
  {
   "cell_type": "markdown",
   "metadata": {},
   "source": [
    "Começamos importando as bibliotecas `pygame` e `OpenGL`.\n",
    "\n",
    "Também definimos as configurações do cubo: vértices, arestas, faces e textura."
   ]
  },
  {
   "cell_type": "code",
   "execution_count": 1,
   "metadata": {},
   "outputs": [
    {
     "name": "stderr",
     "output_type": "stream",
     "text": [
      "<>:53: SyntaxWarning: invalid escape sequence '\\I'\n",
      "<>:53: SyntaxWarning: invalid escape sequence '\\I'\n",
      "C:\\Users\\rocha\\AppData\\Local\\Temp\\ipykernel_8524\\2059214204.py:53: SyntaxWarning: invalid escape sequence '\\I'\n",
      "  imagem = 'img\\Image.jpeg'\n"
     ]
    },
    {
     "name": "stdout",
     "output_type": "stream",
     "text": [
      "pygame 2.5.2 (SDL 2.28.3, Python 3.12.3)\n",
      "Hello from the pygame community. https://www.pygame.org/contribute.html\n"
     ]
    }
   ],
   "source": [
    "import pygame\n",
    "from pygame.locals import *\n",
    "from OpenGL.GL import *\n",
    "from OpenGL.GLU import *\n",
    "\n",
    "# Define os vértices do cubo\n",
    "vertices = (\n",
    "    (1, -1, -1),\n",
    "    (1, 1, -1),\n",
    "    (-1, 1, -1),\n",
    "    (-1, -1, -1),\n",
    "    (1, -1, 1),\n",
    "    (1, 1, 1),\n",
    "    (-1, -1, 1),\n",
    "    (-1, 1, 1)\n",
    ")\n",
    "\n",
    "# Define as arestas do cubo\n",
    "edges = (\n",
    "    (0, 1),\n",
    "    (0, 3),\n",
    "    (0, 4),\n",
    "    (2, 1),\n",
    "    (2, 3),\n",
    "    (2, 7),\n",
    "    (6, 3),\n",
    "    (6, 4),\n",
    "    (6, 7),\n",
    "    (5, 1),\n",
    "    (5, 4),\n",
    "    (5, 7)\n",
    ")\n",
    "\n",
    "# Define as faces do cubo\n",
    "surfaces = (\n",
    "    (0, 1, 2, 3),\n",
    "    (3, 2, 7, 6),\n",
    "    (6, 7, 5, 4),\n",
    "    (4, 5, 1, 0),\n",
    "    (1, 5, 7, 2),\n",
    "    (4, 0, 3, 6)\n",
    ")\n",
    "\n",
    "# Coordenadas da textura\n",
    "texture_coords = (\n",
    "    (0, 0),\n",
    "    (1, 0),\n",
    "    (1, 1),\n",
    "    (0, 1)\n",
    ")\n",
    "\n",
    "# Define o caminho da imagem\n",
    "imagem = 'img\\Image.jpeg'"
   ]
  },
  {
   "cell_type": "markdown",
   "metadata": {},
   "source": [
    "Inicialização do display da `pygame`:"
   ]
  },
  {
   "cell_type": "code",
   "execution_count": 2,
   "metadata": {},
   "outputs": [],
   "source": [
    "pygame.init()\n",
    "display = (600, 600)\n",
    "pygame.display.set_mode(display, DOUBLEBUF | OPENGL)\n",
    "gluPerspective(45, (display[0] / display[1]), 0.1, 50.0)\n",
    "glTranslatef(0.0, 0.0, -5)"
   ]
  },
  {
   "cell_type": "markdown",
   "metadata": {},
   "source": [
    "- `DOUBLEBUF` para evitar flickering\n",
    "- `OPENGL` para usar OpenGL"
   ]
  },
  {
   "cell_type": "markdown",
   "metadata": {},
   "source": [
    "Definindo a superfície da textura utilizando o seu diretório e tamanho, além de criá-la:"
   ]
  },
  {
   "cell_type": "code",
   "execution_count": 3,
   "metadata": {},
   "outputs": [],
   "source": [
    "# Carrega a textura\n",
    "superficieTextura = pygame.image.load(imagem)\n",
    "infoTextura = pygame.image.tostring(superficieTextura, 'RGB', 1)\n",
    "largura = superficieTextura.get_width()\n",
    "altura = superficieTextura.get_height()\n",
    "\n",
    "# Cria a textura\n",
    "glEnable(GL_TEXTURE_2D)\n",
    "idTextura = glGenTextures(1)\n",
    "glBindTexture(GL_TEXTURE_2D, idTextura)\n",
    "glTexImage2D(GL_TEXTURE_2D, 0, GL_RGB, largura, altura, 0, GL_RGB, GL_UNSIGNED_BYTE, infoTextura)\n",
    "glTexParameteri(GL_TEXTURE_2D, GL_TEXTURE_MIN_FILTER, GL_LINEAR)\n",
    "glTexParameteri(GL_TEXTURE_2D, GL_TEXTURE_MAG_FILTER, GL_LINEAR)\n",
    "\n",
    "# Habilita o uso de texturas e o teste de profundidade\n",
    "glEnable(GL_TEXTURE_2D)\n",
    "glEnable(GL_DEPTH_TEST)"
   ]
  },
  {
   "cell_type": "markdown",
   "metadata": {},
   "source": [
    "FUnção que desenha o cubo com a textura utilizando a `OpenGL`:"
   ]
  },
  {
   "cell_type": "code",
   "execution_count": 4,
   "metadata": {},
   "outputs": [],
   "source": [
    "def Cubo(idTextura):\n",
    "    glBindTexture(GL_TEXTURE_2D, idTextura)\n",
    "    glBegin(GL_QUADS)\n",
    "    for surface in surfaces:\n",
    "        for i, vertex in enumerate(surface):\n",
    "            glTexCoord2fv(texture_coords[i])\n",
    "            glVertex3fv(vertices[vertex])\n",
    "    glEnd()"
   ]
  },
  {
   "cell_type": "markdown",
   "metadata": {},
   "source": [
    "Definição de movimentações na `pygame` utilizando o mouse:"
   ]
  },
  {
   "cell_type": "code",
   "execution_count": null,
   "metadata": {},
   "outputs": [],
   "source": [
    "# Variáveis para a rotação\n",
    "fatorEscala = [1.0, 1.0, 1.0]\n",
    "anguloRotacaoX = 0\n",
    "anguloRotacaoY = 0\n",
    "clickMouse1 = False\n",
    "clickMouse2 = False\n",
    "ultimaPos = None\n",
    "\n",
    "# Loop principal\n",
    "while True:\n",
    "    for event in pygame.event.get():\n",
    "        if event.type == pygame.QUIT:\n",
    "            pygame.quit()\n",
    "            quit()\n",
    "        elif event.type == pygame.MOUSEBUTTONDOWN:\n",
    "            if event.button == 4:  # Scroll up\n",
    "                fatorEscala[0] *= 1.1\n",
    "                fatorEscala[1] *= 1.1\n",
    "                fatorEscala[2] *= 1.1\n",
    "            elif event.button == 5:  # Scroll down\n",
    "                fatorEscala[0] *= 0.9\n",
    "                fatorEscala[1] *= 0.9\n",
    "                fatorEscala[2] *= 0.9\n",
    "            elif event.button == 1:  # Left mouse button down\n",
    "                clickMouse1 = True\n",
    "                ultimaPos = pygame.mouse.get_pos()\n",
    "            elif event.button == 3:  # Right mouse button down\n",
    "                clickMouse2 = True\n",
    "                ultimaPos = pygame.mouse.get_pos()\n",
    "        elif event.type == pygame.MOUSEBUTTONUP:\n",
    "            if event.button == 1:  # Left mouse button up\n",
    "                clickMouse1 = False\n",
    "            elif event.button == 3:  # Right mouse button up\n",
    "                clickMouse2 = False\n",
    "        elif event.type == pygame.MOUSEMOTION:\n",
    "            if clickMouse1:\n",
    "                x, y = pygame.mouse.get_pos()\n",
    "                dx = x - ultimaPos[0]\n",
    "                dy = y - ultimaPos[1]\n",
    "                anguloRotacaoX += dy * 0.2\n",
    "                anguloRotacaoY += dx * 0.2\n",
    "                ultimaPos = (x, y)\n",
    "            elif clickMouse2:\n",
    "                x, y = pygame.mouse.get_pos()\n",
    "                dx = x - ultimaPos[0]\n",
    "                dy = y - ultimaPos[1]\n",
    "                glTranslatef(dx * 0.01, -dy * 0.01, 0)\n",
    "                ultimaPos = (x, y)\n",
    "\n",
    "    # Limpa o buffer de cor e o buffer de profundidade\n",
    "    glClear(GL_COLOR_BUFFER_BIT | GL_DEPTH_BUFFER_BIT)\n",
    "    \n",
    "    # Desenha o cubo na tela\n",
    "    glPushMatrix()  # Salva a matriz atual\n",
    "    glScalef(fatorEscala[0], fatorEscala[1], fatorEscala[2])\n",
    "    glRotatef(anguloRotacaoX, 1, 0, 0)\n",
    "    glRotatef(anguloRotacaoY, 0, 1, 0)\n",
    "\n",
    "    Cubo(idTextura) # Desenha o cubo\n",
    "\n",
    "    glPopMatrix()  # Restaura a matriz salva\n",
    "    \n",
    "    pygame.display.flip()\n",
    "    pygame.time.wait(10)"
   ]
  }
 ],
 "metadata": {
  "kernelspec": {
   "display_name": "Python 3",
   "language": "python",
   "name": "python3"
  },
  "language_info": {
   "codemirror_mode": {
    "name": "ipython",
    "version": 3
   },
   "file_extension": ".py",
   "mimetype": "text/x-python",
   "name": "python",
   "nbconvert_exporter": "python",
   "pygments_lexer": "ipython3",
   "version": "3.12.3"
  }
 },
 "nbformat": 4,
 "nbformat_minor": 2
}
